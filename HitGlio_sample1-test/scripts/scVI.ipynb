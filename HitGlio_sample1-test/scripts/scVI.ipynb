{
 "cells": [
  {
   "cell_type": "code",
   "execution_count": 1,
   "metadata": {},
   "outputs": [
    {
     "name": "stderr",
     "output_type": "stream",
     "text": [
      "/mnt/sda4/conda/envs/scvi/lib/python3.12/site-packages/anndata/utils.py:429: FutureWarning: Importing read_csv from `anndata` is deprecated. Import anndata.io.read_csv instead.\n",
      "  warnings.warn(msg, FutureWarning)\n",
      "/mnt/sda4/conda/envs/scvi/lib/python3.12/site-packages/anndata/utils.py:429: FutureWarning: Importing read_loom from `anndata` is deprecated. Import anndata.io.read_loom instead.\n",
      "  warnings.warn(msg, FutureWarning)\n",
      "/mnt/sda4/conda/envs/scvi/lib/python3.12/site-packages/anndata/utils.py:429: FutureWarning: Importing read_text from `anndata` is deprecated. Import anndata.io.read_text instead.\n",
      "  warnings.warn(msg, FutureWarning)\n",
      "/mnt/sda4/conda/envs/scvi/lib/python3.12/site-packages/anndata/utils.py:429: FutureWarning: Importing CSCDataset from `anndata.experimental` is deprecated. Import anndata.abc.CSCDataset instead.\n",
      "  warnings.warn(msg, FutureWarning)\n",
      "/mnt/sda4/conda/envs/scvi/lib/python3.12/site-packages/anndata/utils.py:429: FutureWarning: Importing CSRDataset from `anndata.experimental` is deprecated. Import anndata.abc.CSRDataset instead.\n",
      "  warnings.warn(msg, FutureWarning)\n",
      "/mnt/sda4/conda/envs/scvi/lib/python3.12/site-packages/anndata/utils.py:429: FutureWarning: Importing read_elem from `anndata.experimental` is deprecated. Import anndata.io.read_elem instead.\n",
      "  warnings.warn(msg, FutureWarning)\n",
      "/mnt/sda4/conda/envs/scvi/lib/python3.12/site-packages/tqdm/auto.py:21: TqdmWarning: IProgress not found. Please update jupyter and ipywidgets. See https://ipywidgets.readthedocs.io/en/stable/user_install.html\n",
      "  from .autonotebook import tqdm as notebook_tqdm\n"
     ]
    }
   ],
   "source": [
    "import os\n",
    "import tempfile\n",
    "\n",
    "# import scanpy as sc\n",
    "import scvi\n",
    "# import pyreadr\n",
    "# import seaborn as sns\n",
    "# import torch\n",
    "# from rich import print\n",
    "# from scib_metrics.benchmark import Benchmarker"
   ]
  },
  {
   "cell_type": "code",
   "execution_count": 2,
   "metadata": {},
   "outputs": [],
   "source": [
    "adata = scvi.data.read_h5ad('/mnt/sda4/singleCell_LAB/HitGlio_sample1-test/RDS/filename.h5ad')"
   ]
  },
  {
   "cell_type": "code",
   "execution_count": 3,
   "metadata": {},
   "outputs": [
    {
     "data": {
      "text/plain": [
       "AnnData object with n_obs × n_vars = 36553 × 51448\n",
       "    obs: 'orig.ident', 'nCount_RNA', 'nFeature_RNA', 'nCount_HTO', 'nFeature_HTO', 'nCount_ADT', 'nFeature_ADT', 'MULTI_ID', 'MULTI_classification', 'percent_ribo', 'percent_mito', 'percent_hemoglob', 'log10GenesPerUmi', 'RNA_snn_res.0.5', 'seurat_clusters', 'x', 'y', 'ident', 'cluster', 'cell', 'sample'\n",
       "    var: 'vf_mvp_data.1_mvp.mean', 'vf_mvp_data.1_mvp.dispersion', 'vf_mvp_data.1_mvp.dispersion.scaled', 'vf_mvp_data.1_variable', 'vf_mvp_data.1_rank', 'vf_vst_counts.1_mean', 'vf_vst_counts.1_variance', 'vf_vst_counts.1_variance.expected', 'vf_vst_counts.1_variance.standardized', 'vf_vst_counts.1_variable', 'vf_vst_counts.1_rank', 'vf_vst_counts.2_mean', 'vf_vst_counts.2_variance', 'vf_vst_counts.2_variance.expected', 'vf_vst_counts.2_variance.standardized', 'vf_vst_counts.2_variable', 'vf_vst_counts.2_rank', 'var.features', 'var.features.rank'\n",
       "    obsm: 'X_pca'"
      ]
     },
     "execution_count": 3,
     "metadata": {},
     "output_type": "execute_result"
    }
   ],
   "source": [
    "adata"
   ]
  },
  {
   "cell_type": "code",
   "execution_count": null,
   "metadata": {},
   "outputs": [
    {
     "name": "stderr",
     "output_type": "stream",
     "text": [
      "/mnt/sda4/conda/envs/scvi/lib/python3.12/site-packages/scvi/data/fields/_layer_field.py:115: UserWarning: Training will be faster when sparse matrix is formatted as CSR. It is safe to cast before model initialization.\n",
      "  _verify_and_correct_data_format(adata, self.attr_name, self.attr_key)\n",
      "/mnt/sda4/conda/envs/scvi/lib/python3.12/site-packages/scvi/dataloaders/_data_splitting.py:210: UserWarning: Last batch will have a small size of 2samples. Consider changing settings.batch_size or batch_size in model.traincurrently 128 to avoid errors during model training.\n",
      "  self.n_train, self.n_val = validate_data_split(\n",
      "GPU available: False, used: False\n",
      "TPU available: False, using: 0 TPU cores\n",
      "HPU available: False, using: 0 HPUs\n"
     ]
    },
    {
     "name": "stdout",
     "output_type": "stream",
     "text": [
      "Epoch 1/219:   0%|                               | 0/219 [15:07<?, ?it/s]\n",
      "Epoch 1/219:   0%|                               | 0/219 [15:07<?, ?it/s]\n",
      "Epoch 1/219:   0%|                               | 0/219 [15:07<?, ?it/s]\n",
      "Epoch 1/219:   0%|                               | 0/219 [15:07<?, ?it/s]\n",
      "Epoch 1/219:   0%|                               | 0/219 [15:11<?, ?it/s]\n",
      "Epoch 1/219:   0%|                               | 0/219 [15:12<?, ?it/s]\n",
      "Epoch 1/219:   0%|                               | 0/219 [15:12<?, ?it/s]\n",
      "Epoch 1/219:   0%|                               | 0/219 [15:40<?, ?it/s]\n",
      "Epoch 37/219:  16%|▏| 36/219 [1:07:08<5:25:34, 106.74s/it, v_num=1, train"
     ]
    }
   ],
   "source": [
    "scvi.settings.num_threads = 46\n",
    "scvi.settings.dl_num_workers = 46\n",
    "# run setup_anndata, use column stim for batch\n",
    "# scvi.model.SCVI.setup_anndata(adata, batch_key = 'MULTI_ID')\n",
    "\n",
    "# create the model\n",
    "model = scvi.model.SCVI(adata)\n",
    "\n",
    "# train t.e model\n",
    "model.train()"
   ]
  },
  {
   "cell_type": "code",
   "execution_count": 7,
   "metadata": {},
   "outputs": [
    {
     "data": {
      "text/html": [
       "<pre style=\"white-space:pre;overflow-x:auto;line-height:normal;font-family:Menlo,'DejaVu Sans Mono',consolas,'Courier New',monospace\">SCVI model with the following parameters: \n",
       "n_hidden: <span style=\"color: #008080; text-decoration-color: #008080; font-weight: bold\">128</span>, n_latent: <span style=\"color: #008080; text-decoration-color: #008080; font-weight: bold\">10</span>, n_layers: <span style=\"color: #008080; text-decoration-color: #008080; font-weight: bold\">1</span>, dropout_rate: <span style=\"color: #008080; text-decoration-color: #008080; font-weight: bold\">0.1</span>, dispersion: gene, gene_likelihood: zinb, \n",
       "latent_distribution: normal.\n",
       "Training status: Trained\n",
       "Model's adata is minified?: <span style=\"color: #ff0000; text-decoration-color: #ff0000; font-style: italic\">False</span>\n",
       "</pre>\n"
      ],
      "text/plain": [
       "SCVI model with the following parameters: \n",
       "n_hidden: \u001b[1;36m128\u001b[0m, n_latent: \u001b[1;36m10\u001b[0m, n_layers: \u001b[1;36m1\u001b[0m, dropout_rate: \u001b[1;36m0.1\u001b[0m, dispersion: gene, gene_likelihood: zinb, \n",
       "latent_distribution: normal.\n",
       "Training status: Trained\n",
       "Model's adata is minified?: \u001b[3;91mFalse\u001b[0m\n"
      ]
     },
     "metadata": {},
     "output_type": "display_data"
    },
    {
     "data": {
      "text/plain": []
     },
     "execution_count": 7,
     "metadata": {},
     "output_type": "execute_result"
    }
   ],
   "source": [
    "model"
   ]
  },
  {
   "cell_type": "code",
   "execution_count": 9,
   "metadata": {},
   "outputs": [],
   "source": [
    "latent = model.get_latent_representation()"
   ]
  },
  {
   "cell_type": "code",
   "execution_count": 10,
   "metadata": {},
   "outputs": [
    {
     "data": {
      "text/plain": [
       "array([[ 0.59444225, -0.79490936, -0.41424984, ...,  1.7820519 ,\n",
       "         0.10756576,  1.3241537 ],\n",
       "       [ 1.2542677 , -0.94397736, -0.73620677, ...,  0.12226555,\n",
       "         1.0367217 ,  1.0107079 ],\n",
       "       [-2.5456603 , -3.3137777 , -0.03678724, ...,  3.242712  ,\n",
       "        -2.7642903 ,  1.4490888 ],\n",
       "       ...,\n",
       "       [-0.26232213,  0.7610818 ,  0.07071286, ...,  1.5541439 ,\n",
       "         0.49503773, -0.21972764],\n",
       "       [-0.39786083,  1.2939185 ,  0.2314294 , ...,  1.1710755 ,\n",
       "         0.17902517, -0.38895202],\n",
       "       [ 0.07945365,  1.3293488 , -0.1164563 , ...,  1.647945  ,\n",
       "        -0.06979358, -0.6976447 ]], dtype=float32)"
      ]
     },
     "execution_count": 10,
     "metadata": {},
     "output_type": "execute_result"
    }
   ],
   "source": [
    "latent"
   ]
  },
  {
   "cell_type": "code",
   "execution_count": 22,
   "metadata": {},
   "outputs": [],
   "source": [
    "import pandas as pd \n",
    "import numpy as np"
   ]
  },
  {
   "cell_type": "code",
   "execution_count": 12,
   "metadata": {},
   "outputs": [],
   "source": [
    "latent_df = pd.DataFrame(latent)"
   ]
  },
  {
   "cell_type": "code",
   "execution_count": 13,
   "metadata": {},
   "outputs": [],
   "source": [
    "latent_df.to_csv(\"latent.csv\")"
   ]
  },
  {
   "cell_type": "code",
   "execution_count": null,
   "metadata": {},
   "outputs": [],
   "source": [
    "# below I try to model rna and adt data together, (i think it will help with labeling clusters, but not sure)"
   ]
  },
  {
   "cell_type": "code",
   "execution_count": 17,
   "metadata": {},
   "outputs": [],
   "source": [
    "import mudata as md\n",
    "import scanpy as sc\n",
    "import scvi\n",
    "import pandas as pd \n",
    "import numpy as np"
   ]
  },
  {
   "cell_type": "code",
   "execution_count": 4,
   "metadata": {},
   "outputs": [],
   "source": [
    "scvi.settings.num_threads = 46\n",
    "scvi.settings.dl_num_workers = 46"
   ]
  },
  {
   "cell_type": "code",
   "execution_count": 5,
   "metadata": {},
   "outputs": [],
   "source": [
    "adata_rna = scvi.data.read_h5ad('/mnt/sda4/singleCell_LAB/HitGlio_sample1-test/RDS/scvi-sct_12-02-24.h5ad')"
   ]
  },
  {
   "cell_type": "code",
   "execution_count": 5,
   "metadata": {},
   "outputs": [
    {
     "data": {
      "text/plain": [
       "AnnData object with n_obs × n_vars = 15250 × 26200\n",
       "    obs: 'orig.ident', 'nCount_RNA', 'nFeature_RNA', 'nCount_HTO', 'nFeature_HTO', 'nCount_ADT', 'nFeature_ADT', 'MULTI_ID', 'MULTI_classification', 'percent_ribo', 'percent_mito', 'percent_hemoglob', 'log10GenesPerUmi', 'nCount_SCT', 'nFeature_SCT'\n",
       "    var: 'name'"
      ]
     },
     "execution_count": 5,
     "metadata": {},
     "output_type": "execute_result"
    }
   ],
   "source": [
    "adata_rna"
   ]
  },
  {
   "cell_type": "code",
   "execution_count": 6,
   "metadata": {},
   "outputs": [],
   "source": [
    "# adata_rna.layers[\"counts\"] = adata.X.copy().todense() /only adt needs to be dense\n",
    "\n",
    "adata_rna.layers[\"counts\"] = adata_rna.X.copy()"
   ]
  },
  {
   "cell_type": "code",
   "execution_count": 7,
   "metadata": {},
   "outputs": [
    {
     "data": {
      "text/plain": [
       "Layers with keys: counts"
      ]
     },
     "execution_count": 7,
     "metadata": {},
     "output_type": "execute_result"
    }
   ],
   "source": [
    "adata_rna.layers"
   ]
  },
  {
   "cell_type": "code",
   "execution_count": 8,
   "metadata": {},
   "outputs": [],
   "source": [
    "adata_adt = scvi.data.read_h5ad('/mnt/sda4/singleCell_LAB/HitGlio_sample1-test/RDS/scvi-adt_12-02-24.h5ad')"
   ]
  },
  {
   "cell_type": "code",
   "execution_count": 9,
   "metadata": {
    "scrolled": true
   },
   "outputs": [
    {
     "name": "stderr",
     "output_type": "stream",
     "text": [
      "/mnt/sda4/conda/envs/scvi/lib/python3.12/site-packages/anndata/_core/storage.py:39: ImplicitModificationWarning: X should not be a np.matrix, use np.ndarray instead.\n",
      "  warnings.warn(msg, ImplicitModificationWarning)\n"
     ]
    }
   ],
   "source": [
    "adata_adt.X = adata_adt.X.todense()"
   ]
  },
  {
   "cell_type": "code",
   "execution_count": 10,
   "metadata": {},
   "outputs": [],
   "source": [
    "adata_adt.obs_names_make_unique()"
   ]
  },
  {
   "cell_type": "code",
   "execution_count": 11,
   "metadata": {
    "scrolled": true
   },
   "outputs": [
    {
     "name": "stderr",
     "output_type": "stream",
     "text": [
      "/mnt/sda4/conda/envs/scvi/lib/python3.12/site-packages/mudata/_core/mudata.py:1531: FutureWarning: From 0.4 .update() will not pull obs/var columns from individual modalities by default anymore. Set mudata.set_options(pull_on_update=False) to adopt the new behaviour, which will become the default. Use new pull_obs/pull_var and push_obs/push_var methods for more flexibility.\n",
      "  self._update_attr(\"var\", axis=0, join_common=join_common)\n",
      "/mnt/sda4/conda/envs/scvi/lib/python3.12/site-packages/mudata/_core/mudata.py:1429: FutureWarning: From 0.4 .update() will not pull obs/var columns from individual modalities by default anymore. Set mudata.set_options(pull_on_update=False) to adopt the new behaviour, which will become the default. Use new pull_obs/pull_var and push_obs/push_var methods for more flexibility.\n",
      "  self._update_attr(\"obs\", axis=1, join_common=join_common)\n"
     ]
    }
   ],
   "source": [
    "mdata = md.MuData({\"rna\": adata_rna, \"protein\": adata_adt})"
   ]
  },
  {
   "cell_type": "code",
   "execution_count": 12,
   "metadata": {},
   "outputs": [
    {
     "data": {
      "text/html": [
       "<pre>MuData object with n_obs × n_vars = 15250 × 26242\n",
       "  var:\t&#x27;name&#x27;\n",
       "  2 modalities\n",
       "    rna:\t15250 x 26200\n",
       "      obs:\t&#x27;orig.ident&#x27;, &#x27;nCount_RNA&#x27;, &#x27;nFeature_RNA&#x27;, &#x27;nCount_HTO&#x27;, &#x27;nFeature_HTO&#x27;, &#x27;nCount_ADT&#x27;, &#x27;nFeature_ADT&#x27;, &#x27;MULTI_ID&#x27;, &#x27;MULTI_classification&#x27;, &#x27;percent_ribo&#x27;, &#x27;percent_mito&#x27;, &#x27;percent_hemoglob&#x27;, &#x27;log10GenesPerUmi&#x27;, &#x27;nCount_SCT&#x27;, &#x27;nFeature_SCT&#x27;\n",
       "      var:\t&#x27;name&#x27;\n",
       "      layers:\t&#x27;counts&#x27;\n",
       "    protein:\t15250 x 42\n",
       "      obs:\t&#x27;orig.ident&#x27;, &#x27;nCount_RNA&#x27;, &#x27;nFeature_RNA&#x27;, &#x27;nCount_HTO&#x27;, &#x27;nFeature_HTO&#x27;, &#x27;nCount_ADT&#x27;, &#x27;nFeature_ADT&#x27;, &#x27;MULTI_ID&#x27;, &#x27;MULTI_classification&#x27;, &#x27;percent_ribo&#x27;, &#x27;percent_mito&#x27;, &#x27;percent_hemoglob&#x27;, &#x27;log10GenesPerUmi&#x27;, &#x27;nCount_SCT&#x27;, &#x27;nFeature_SCT&#x27;\n",
       "      var:\t&#x27;name&#x27;</pre>"
      ],
      "text/plain": [
       "MuData object with n_obs × n_vars = 15250 × 26242\n",
       "  var:\t'name'\n",
       "  2 modalities\n",
       "    rna:\t15250 x 26200\n",
       "      obs:\t'orig.ident', 'nCount_RNA', 'nFeature_RNA', 'nCount_HTO', 'nFeature_HTO', 'nCount_ADT', 'nFeature_ADT', 'MULTI_ID', 'MULTI_classification', 'percent_ribo', 'percent_mito', 'percent_hemoglob', 'log10GenesPerUmi', 'nCount_SCT', 'nFeature_SCT'\n",
       "      var:\t'name'\n",
       "      layers:\t'counts'\n",
       "    protein:\t15250 x 42\n",
       "      obs:\t'orig.ident', 'nCount_RNA', 'nFeature_RNA', 'nCount_HTO', 'nFeature_HTO', 'nCount_ADT', 'nFeature_ADT', 'MULTI_ID', 'MULTI_classification', 'percent_ribo', 'percent_mito', 'percent_hemoglob', 'log10GenesPerUmi', 'nCount_SCT', 'nFeature_SCT'\n",
       "      var:\t'name'"
      ]
     },
     "execution_count": 12,
     "metadata": {},
     "output_type": "execute_result"
    }
   ],
   "source": [
    "mdata"
   ]
  },
  {
   "cell_type": "code",
   "execution_count": 16,
   "metadata": {
    "scrolled": true
   },
   "outputs": [
    {
     "data": {
      "text/plain": [
       "DDX11L2            False\n",
       "MIR1302-2HG        False\n",
       "FAM138A            False\n",
       "ENSG00000290826    False\n",
       "OR4F5              False\n",
       "                   ...  \n",
       "ENSG00000277836    False\n",
       "ENSG00000278633    False\n",
       "ENSG00000276017    False\n",
       "ENSG00000278817    False\n",
       "ENSG00000277196    False\n",
       "Name: vf_vst_counts_variable, Length: 38606, dtype: bool"
      ]
     },
     "execution_count": 16,
     "metadata": {},
     "output_type": "execute_result"
    }
   ],
   "source": [
    "# mdata[\"rna\"].var[\"vf_vst_counts_variable\"]"
   ]
  },
  {
   "cell_type": "code",
   "execution_count": 15,
   "metadata": {},
   "outputs": [],
   "source": [
    "# mdata.mod[\"rna_subset\"] = mdata.mod[\"rna\"][:, mdata.mod[\"rna\"].var[\"vf_vst_counts_variable\"]].copy()"
   ]
  },
  {
   "cell_type": "code",
   "execution_count": 13,
   "metadata": {},
   "outputs": [
    {
     "name": "stderr",
     "output_type": "stream",
     "text": [
      "/mnt/sda4/conda/envs/scvi/lib/python3.12/site-packages/mudata/_core/mudata.py:1531: FutureWarning: From 0.4 .update() will not pull obs/var columns from individual modalities by default anymore. Set mudata.set_options(pull_on_update=False) to adopt the new behaviour, which will become the default. Use new pull_obs/pull_var and push_obs/push_var methods for more flexibility.\n",
      "  self._update_attr(\"var\", axis=0, join_common=join_common)\n",
      "/mnt/sda4/conda/envs/scvi/lib/python3.12/site-packages/mudata/_core/mudata.py:1429: FutureWarning: From 0.4 .update() will not pull obs/var columns from individual modalities by default anymore. Set mudata.set_options(pull_on_update=False) to adopt the new behaviour, which will become the default. Use new pull_obs/pull_var and push_obs/push_var methods for more flexibility.\n",
      "  self._update_attr(\"obs\", axis=1, join_common=join_common)\n"
     ]
    }
   ],
   "source": [
    "mdata.update()"
   ]
  },
  {
   "cell_type": "code",
   "execution_count": 116,
   "metadata": {},
   "outputs": [
    {
     "name": "stderr",
     "output_type": "stream",
     "text": [
      "/mnt/sda4/conda/envs/scvi/lib/python3.12/site-packages/scvi/data/fields/_layer_field.py:115: UserWarning: Training will be faster when sparse matrix is formatted as CSR. It is safe to cast before model initialization.\n",
      "  _verify_and_correct_data_format(adata, self.attr_name, self.attr_key)\n"
     ]
    }
   ],
   "source": []
  },
  {
   "cell_type": "code",
   "execution_count": 19,
   "metadata": {},
   "outputs": [
    {
     "name": "stderr",
     "output_type": "stream",
     "text": [
      "/mnt/sda4/conda/envs/scvi/lib/python3.12/site-packages/scvi/data/fields/_layer_field.py:115: UserWarning: Training will be faster when sparse matrix is formatted as CSR. It is safe to cast before model initialization.\n",
      "  _verify_and_correct_data_format(adata, self.attr_name, self.attr_key)\n"
     ]
    }
   ],
   "source": [
    "# scvi.model.TOTALVI.setup_mudata(\n",
    "#     mdata,\n",
    "#     rna_layer=\"counts\",\n",
    "#     protein_layer=None,\n",
    "#     modalities={\n",
    "#         \"rna_layer\": \"rna_subset\",\n",
    "#         \"protein_layer\": \"protein\",\n",
    "#         \"batch_key\": \"rna_subset\",\n",
    "#     },\n",
    "# )\n",
    "\n",
    "scvi.model.TOTALVI.setup_mudata(\n",
    "    mdata,\n",
    "    rna_layer=\"counts\",\n",
    "    # batch_key = \"MULTI_ID\",\n",
    "    protein_layer=None,\n",
    "    modalities={\n",
    "        \"rna_layer\": \"rna\",\n",
    "        \"protein_layer\": \"protein\",\n",
    "        \"batch_key\": \"rna\",\n",
    "    },\n",
    ")\n"
   ]
  },
  {
   "cell_type": "code",
   "execution_count": 20,
   "metadata": {},
   "outputs": [
    {
     "name": "stdout",
     "output_type": "stream",
     "text": [
      "\u001b[34mINFO    \u001b[0m Computing empirical prior initialization for protein background.                                          \n"
     ]
    }
   ],
   "source": [
    "model2 = scvi.model.TOTALVI(mdata)"
   ]
  },
  {
   "cell_type": "code",
   "execution_count": null,
   "metadata": {
    "scrolled": true
   },
   "outputs": [
    {
     "name": "stderr",
     "output_type": "stream",
     "text": [
      "GPU available: False, used: False\n",
      "TPU available: False, using: 0 TPU cores\n",
      "HPU available: False, using: 0 HPUs\n",
      "/mnt/sda4/conda/envs/scvi/lib/python3.12/site-packages/torch/optim/lr_scheduler.py:60: UserWarning: The verbose parameter is deprecated. Please use get_last_lr() to access the learning rate.\n",
      "  warnings.warn(\n",
      "/mnt/sda4/conda/envs/scvi/lib/python3.12/site-packages/lightning/pytorch/core/optimizer.py:316: The lr scheduler dict contains the key(s) ['monitor'], but the keys will be ignored. You need to call `lr_scheduler.step()` manually in manual optimization.\n"
     ]
    },
    {
     "name": "stdout",
     "output_type": "stream",
     "text": [
      "Epoch 124/400:  31%|▎| 123/400 [1:15:39<2:52:29, 37.36s/it,"
     ]
    }
   ],
   "source": [
    "model2.train()"
   ]
  },
  {
   "cell_type": "code",
   "execution_count": null,
   "metadata": {},
   "outputs": [],
   "source": [
    "latent = model2.get_latent_representation()\n",
    "\n",
    "latent_df = pd.DataFrame(latent)\n",
    "latent_df.to_csv(\"latent-sct-totalVI_12-04-24_wo-int.csv\")"
   ]
  },
  {
   "cell_type": "code",
   "execution_count": null,
   "metadata": {},
   "outputs": [],
   "source": []
  },
  {
   "cell_type": "code",
   "execution_count": null,
   "metadata": {},
   "outputs": [],
   "source": []
  }
 ],
 "metadata": {
  "kernelspec": {
   "display_name": "Python 3 (ipykernel)",
   "language": "python",
   "name": "python3"
  },
  "language_info": {
   "codemirror_mode": {
    "name": "ipython",
    "version": 3
   },
   "file_extension": ".py",
   "mimetype": "text/x-python",
   "name": "python",
   "nbconvert_exporter": "python",
   "pygments_lexer": "ipython3",
   "version": "3.12.7"
  }
 },
 "nbformat": 4,
 "nbformat_minor": 4
}
