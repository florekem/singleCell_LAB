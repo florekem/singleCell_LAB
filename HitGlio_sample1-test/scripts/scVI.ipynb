{
 "cells": [
  {
   "cell_type": "code",
   "execution_count": 1,
   "metadata": {},
   "outputs": [
    {
     "name": "stderr",
     "output_type": "stream",
     "text": [
      "/mnt/sda4/conda/envs/scvi/lib/python3.12/site-packages/anndata/utils.py:429: FutureWarning: Importing read_csv from `anndata` is deprecated. Import anndata.io.read_csv instead.\n",
      "  warnings.warn(msg, FutureWarning)\n",
      "/mnt/sda4/conda/envs/scvi/lib/python3.12/site-packages/anndata/utils.py:429: FutureWarning: Importing read_loom from `anndata` is deprecated. Import anndata.io.read_loom instead.\n",
      "  warnings.warn(msg, FutureWarning)\n",
      "/mnt/sda4/conda/envs/scvi/lib/python3.12/site-packages/anndata/utils.py:429: FutureWarning: Importing read_text from `anndata` is deprecated. Import anndata.io.read_text instead.\n",
      "  warnings.warn(msg, FutureWarning)\n",
      "/mnt/sda4/conda/envs/scvi/lib/python3.12/site-packages/anndata/utils.py:429: FutureWarning: Importing CSCDataset from `anndata.experimental` is deprecated. Import anndata.abc.CSCDataset instead.\n",
      "  warnings.warn(msg, FutureWarning)\n",
      "/mnt/sda4/conda/envs/scvi/lib/python3.12/site-packages/anndata/utils.py:429: FutureWarning: Importing CSRDataset from `anndata.experimental` is deprecated. Import anndata.abc.CSRDataset instead.\n",
      "  warnings.warn(msg, FutureWarning)\n",
      "/mnt/sda4/conda/envs/scvi/lib/python3.12/site-packages/anndata/utils.py:429: FutureWarning: Importing read_elem from `anndata.experimental` is deprecated. Import anndata.io.read_elem instead.\n",
      "  warnings.warn(msg, FutureWarning)\n",
      "/mnt/sda4/conda/envs/scvi/lib/python3.12/site-packages/tqdm/auto.py:21: TqdmWarning: IProgress not found. Please update jupyter and ipywidgets. See https://ipywidgets.readthedocs.io/en/stable/user_install.html\n",
      "  from .autonotebook import tqdm as notebook_tqdm\n"
     ]
    }
   ],
   "source": [
    "import os\n",
    "import tempfile\n",
    "\n",
    "# import scanpy as sc\n",
    "import scvi\n",
    "# import pyreadr\n",
    "# import seaborn as sns\n",
    "# import torch\n",
    "# from rich import print\n",
    "# from scib_metrics.benchmark import Benchmarker"
   ]
  },
  {
   "cell_type": "code",
   "execution_count": 2,
   "metadata": {},
   "outputs": [],
   "source": [
    "adata = scvi.data.read_h5ad('/mnt/sda4/singleCell_LAB/HitGlio_sample1-test/RDS/filename.h5ad')"
   ]
  },
  {
   "cell_type": "code",
   "execution_count": 3,
   "metadata": {},
   "outputs": [
    {
     "data": {
      "text/plain": [
       "AnnData object with n_obs × n_vars = 36553 × 51448\n",
       "    obs: 'orig.ident', 'nCount_RNA', 'nFeature_RNA', 'nCount_HTO', 'nFeature_HTO', 'nCount_ADT', 'nFeature_ADT', 'MULTI_ID', 'MULTI_classification', 'percent_ribo', 'percent_mito', 'percent_hemoglob', 'log10GenesPerUmi', 'RNA_snn_res.0.5', 'seurat_clusters', 'x', 'y', 'ident', 'cluster', 'cell', 'sample'\n",
       "    var: 'vf_mvp_data.1_mvp.mean', 'vf_mvp_data.1_mvp.dispersion', 'vf_mvp_data.1_mvp.dispersion.scaled', 'vf_mvp_data.1_variable', 'vf_mvp_data.1_rank', 'vf_vst_counts.1_mean', 'vf_vst_counts.1_variance', 'vf_vst_counts.1_variance.expected', 'vf_vst_counts.1_variance.standardized', 'vf_vst_counts.1_variable', 'vf_vst_counts.1_rank', 'vf_vst_counts.2_mean', 'vf_vst_counts.2_variance', 'vf_vst_counts.2_variance.expected', 'vf_vst_counts.2_variance.standardized', 'vf_vst_counts.2_variable', 'vf_vst_counts.2_rank', 'var.features', 'var.features.rank'\n",
       "    obsm: 'X_pca'"
      ]
     },
     "execution_count": 3,
     "metadata": {},
     "output_type": "execute_result"
    }
   ],
   "source": [
    "adata"
   ]
  },
  {
   "cell_type": "code",
   "execution_count": null,
   "metadata": {},
   "outputs": [
    {
     "name": "stderr",
     "output_type": "stream",
     "text": [
      "/mnt/sda4/conda/envs/scvi/lib/python3.12/site-packages/scvi/data/fields/_layer_field.py:115: UserWarning: Training will be faster when sparse matrix is formatted as CSR. It is safe to cast before model initialization.\n",
      "  _verify_and_correct_data_format(adata, self.attr_name, self.attr_key)\n",
      "/mnt/sda4/conda/envs/scvi/lib/python3.12/site-packages/scvi/dataloaders/_data_splitting.py:210: UserWarning: Last batch will have a small size of 2samples. Consider changing settings.batch_size or batch_size in model.traincurrently 128 to avoid errors during model training.\n",
      "  self.n_train, self.n_val = validate_data_split(\n",
      "GPU available: False, used: False\n",
      "TPU available: False, using: 0 TPU cores\n",
      "HPU available: False, using: 0 HPUs\n"
     ]
    },
    {
     "name": "stdout",
     "output_type": "stream",
     "text": [
      "Epoch 1/219:   0%|                               | 0/219 [15:07<?, ?it/s]\n",
      "Epoch 1/219:   0%|                               | 0/219 [15:07<?, ?it/s]\n",
      "Epoch 1/219:   0%|                               | 0/219 [15:07<?, ?it/s]\n",
      "Epoch 1/219:   0%|                               | 0/219 [15:07<?, ?it/s]\n",
      "Epoch 1/219:   0%|                               | 0/219 [15:11<?, ?it/s]\n",
      "Epoch 1/219:   0%|                               | 0/219 [15:12<?, ?it/s]\n",
      "Epoch 1/219:   0%|                               | 0/219 [15:12<?, ?it/s]\n",
      "Epoch 1/219:   0%|                               | 0/219 [15:40<?, ?it/s]\n",
      "Epoch 37/219:  16%|▏| 36/219 [1:07:08<5:25:34, 106.74s/it, v_num=1, train"
     ]
    }
   ],
   "source": [
    "scvi.settings.num_threads = 46\n",
    "scvi.settings.dl_num_workers = 46\n",
    "# run setup_anndata, use column stim for batch\n",
    "# scvi.model.SCVI.setup_anndata(adata, batch_key = 'MULTI_ID')\n",
    "\n",
    "# create the model\n",
    "model = scvi.model.SCVI(adata)\n",
    "\n",
    "# train t.e model\n",
    "model.train()"
   ]
  },
  {
   "cell_type": "code",
   "execution_count": 7,
   "metadata": {},
   "outputs": [
    {
     "data": {
      "text/html": [
       "<pre style=\"white-space:pre;overflow-x:auto;line-height:normal;font-family:Menlo,'DejaVu Sans Mono',consolas,'Courier New',monospace\">SCVI model with the following parameters: \n",
       "n_hidden: <span style=\"color: #008080; text-decoration-color: #008080; font-weight: bold\">128</span>, n_latent: <span style=\"color: #008080; text-decoration-color: #008080; font-weight: bold\">10</span>, n_layers: <span style=\"color: #008080; text-decoration-color: #008080; font-weight: bold\">1</span>, dropout_rate: <span style=\"color: #008080; text-decoration-color: #008080; font-weight: bold\">0.1</span>, dispersion: gene, gene_likelihood: zinb, \n",
       "latent_distribution: normal.\n",
       "Training status: Trained\n",
       "Model's adata is minified?: <span style=\"color: #ff0000; text-decoration-color: #ff0000; font-style: italic\">False</span>\n",
       "</pre>\n"
      ],
      "text/plain": [
       "SCVI model with the following parameters: \n",
       "n_hidden: \u001b[1;36m128\u001b[0m, n_latent: \u001b[1;36m10\u001b[0m, n_layers: \u001b[1;36m1\u001b[0m, dropout_rate: \u001b[1;36m0.1\u001b[0m, dispersion: gene, gene_likelihood: zinb, \n",
       "latent_distribution: normal.\n",
       "Training status: Trained\n",
       "Model's adata is minified?: \u001b[3;91mFalse\u001b[0m\n"
      ]
     },
     "metadata": {},
     "output_type": "display_data"
    },
    {
     "data": {
      "text/plain": []
     },
     "execution_count": 7,
     "metadata": {},
     "output_type": "execute_result"
    }
   ],
   "source": [
    "model"
   ]
  },
  {
   "cell_type": "code",
   "execution_count": 9,
   "metadata": {},
   "outputs": [],
   "source": [
    "latent = model.get_latent_representation()"
   ]
  },
  {
   "cell_type": "code",
   "execution_count": 10,
   "metadata": {},
   "outputs": [
    {
     "data": {
      "text/plain": [
       "array([[ 0.59444225, -0.79490936, -0.41424984, ...,  1.7820519 ,\n",
       "         0.10756576,  1.3241537 ],\n",
       "       [ 1.2542677 , -0.94397736, -0.73620677, ...,  0.12226555,\n",
       "         1.0367217 ,  1.0107079 ],\n",
       "       [-2.5456603 , -3.3137777 , -0.03678724, ...,  3.242712  ,\n",
       "        -2.7642903 ,  1.4490888 ],\n",
       "       ...,\n",
       "       [-0.26232213,  0.7610818 ,  0.07071286, ...,  1.5541439 ,\n",
       "         0.49503773, -0.21972764],\n",
       "       [-0.39786083,  1.2939185 ,  0.2314294 , ...,  1.1710755 ,\n",
       "         0.17902517, -0.38895202],\n",
       "       [ 0.07945365,  1.3293488 , -0.1164563 , ...,  1.647945  ,\n",
       "        -0.06979358, -0.6976447 ]], dtype=float32)"
      ]
     },
     "execution_count": 10,
     "metadata": {},
     "output_type": "execute_result"
    }
   ],
   "source": [
    "latent"
   ]
  },
  {
   "cell_type": "code",
   "execution_count": 22,
   "metadata": {},
   "outputs": [],
   "source": [
    "import pandas as pd \n",
    "import numpy as np"
   ]
  },
  {
   "cell_type": "code",
   "execution_count": 12,
   "metadata": {},
   "outputs": [],
   "source": [
    "latent_df = pd.DataFrame(latent)"
   ]
  },
  {
   "cell_type": "code",
   "execution_count": 13,
   "metadata": {},
   "outputs": [],
   "source": [
    "latent_df.to_csv(\"latent.csv\")"
   ]
  },
  {
   "cell_type": "code",
   "execution_count": null,
   "metadata": {},
   "outputs": [],
   "source": [
    "# below I try to model rna and adt data together, (i think it will help with labeling clusters, but not sure)"
   ]
  },
  {
   "cell_type": "code",
   "execution_count": 64,
   "metadata": {},
   "outputs": [],
   "source": [
    "import mudata as md\n",
    "import scanpy as sc\n",
    "import scvi\n",
    "import pandas as pd \n",
    "import numpy as np"
   ]
  },
  {
   "cell_type": "code",
   "execution_count": 65,
   "metadata": {},
   "outputs": [],
   "source": [
    "scvi.settings.num_threads = 46\n",
    "scvi.settings.dl_num_workers = 46"
   ]
  },
  {
   "cell_type": "code",
   "execution_count": 66,
   "metadata": {},
   "outputs": [],
   "source": [
    "adata_rna = scvi.data.read_h5ad('/mnt/sda4/singleCell_LAB/HitGlio_sample1-test/RDS/seu_singlet_sct-doublet-500-hvg_05dec24.rds.h5ad')"
   ]
  },
  {
   "cell_type": "code",
   "execution_count": 67,
   "metadata": {},
   "outputs": [
    {
     "data": {
      "text/plain": [
       "AnnData object with n_obs × n_vars = 13409 × 25571\n",
       "    obs: 'orig.ident', 'nCount_RNA', 'nFeature_RNA', 'nCount_HTO', 'nFeature_HTO', 'nCount_ADT', 'nFeature_ADT', 'MULTI_ID', 'MULTI_classification', 'percent_ribo', 'percent_mito', 'percent_hemoglob', 'log10GenesPerUmi', 'S.Score', 'G2M.Score', 'Phase', 'old.ident', 'nCount_SCT', 'nFeature_SCT', 'cluster.sct', 'seurat_clusters', 'pANN_0.25_0.09_1841', 'DF.classifications_0.25_0.09_1841'\n",
       "    var: 'name'\n",
       "    obsm: 'X_pca.sct', 'X_umap.sct'"
      ]
     },
     "execution_count": 67,
     "metadata": {},
     "output_type": "execute_result"
    }
   ],
   "source": [
    "adata_rna"
   ]
  },
  {
   "cell_type": "code",
   "execution_count": 68,
   "metadata": {},
   "outputs": [],
   "source": [
    "# adata_rna.layers[\"counts\"] = adata.X.copy().todense() /only adt needs to be dense\n",
    "\n",
    "adata_rna.layers[\"counts\"] = adata_rna.X.copy()"
   ]
  },
  {
   "cell_type": "code",
   "execution_count": 69,
   "metadata": {},
   "outputs": [
    {
     "data": {
      "text/plain": [
       "Layers with keys: counts"
      ]
     },
     "execution_count": 69,
     "metadata": {},
     "output_type": "execute_result"
    }
   ],
   "source": [
    "adata_rna.layers"
   ]
  },
  {
   "cell_type": "code",
   "execution_count": 70,
   "metadata": {},
   "outputs": [],
   "source": [
    "adata_adt = scvi.data.read_h5ad('/mnt/sda4/singleCell_LAB/HitGlio_sample1-test/RDS/seu_singlet_adt-doublet-500-hvg_05dec24.rds.h5ad')"
   ]
  },
  {
   "cell_type": "code",
   "execution_count": 71,
   "metadata": {
    "scrolled": true
   },
   "outputs": [
    {
     "name": "stderr",
     "output_type": "stream",
     "text": [
      "/mnt/sda4/conda/envs/scvi/lib/python3.12/site-packages/anndata/_core/storage.py:39: ImplicitModificationWarning: X should not be a np.matrix, use np.ndarray instead.\n",
      "  warnings.warn(msg, ImplicitModificationWarning)\n"
     ]
    }
   ],
   "source": [
    "adata_adt.X = adata_adt.X.todense()"
   ]
  },
  {
   "cell_type": "code",
   "execution_count": 72,
   "metadata": {},
   "outputs": [],
   "source": [
    "adata_adt.obs_names_make_unique()"
   ]
  },
  {
   "cell_type": "code",
   "execution_count": 73,
   "metadata": {
    "scrolled": true
   },
   "outputs": [
    {
     "name": "stderr",
     "output_type": "stream",
     "text": [
      "/mnt/sda4/conda/envs/scvi/lib/python3.12/site-packages/mudata/_core/mudata.py:1531: FutureWarning: From 0.4 .update() will not pull obs/var columns from individual modalities by default anymore. Set mudata.set_options(pull_on_update=False) to adopt the new behaviour, which will become the default. Use new pull_obs/pull_var and push_obs/push_var methods for more flexibility.\n",
      "  self._update_attr(\"var\", axis=0, join_common=join_common)\n",
      "/mnt/sda4/conda/envs/scvi/lib/python3.12/site-packages/mudata/_core/mudata.py:1429: FutureWarning: From 0.4 .update() will not pull obs/var columns from individual modalities by default anymore. Set mudata.set_options(pull_on_update=False) to adopt the new behaviour, which will become the default. Use new pull_obs/pull_var and push_obs/push_var methods for more flexibility.\n",
      "  self._update_attr(\"obs\", axis=1, join_common=join_common)\n"
     ]
    }
   ],
   "source": [
    "mdata = md.MuData({\"rna\": adata_rna, \"protein\": adata_adt})"
   ]
  },
  {
   "cell_type": "code",
   "execution_count": 74,
   "metadata": {},
   "outputs": [
    {
     "data": {
      "text/html": [
       "<pre>MuData object with n_obs × n_vars = 13409 × 25613\n",
       "  var:\t&#x27;name&#x27;\n",
       "  2 modalities\n",
       "    rna:\t13409 x 25571\n",
       "      obs:\t&#x27;orig.ident&#x27;, &#x27;nCount_RNA&#x27;, &#x27;nFeature_RNA&#x27;, &#x27;nCount_HTO&#x27;, &#x27;nFeature_HTO&#x27;, &#x27;nCount_ADT&#x27;, &#x27;nFeature_ADT&#x27;, &#x27;MULTI_ID&#x27;, &#x27;MULTI_classification&#x27;, &#x27;percent_ribo&#x27;, &#x27;percent_mito&#x27;, &#x27;percent_hemoglob&#x27;, &#x27;log10GenesPerUmi&#x27;, &#x27;S.Score&#x27;, &#x27;G2M.Score&#x27;, &#x27;Phase&#x27;, &#x27;old.ident&#x27;, &#x27;nCount_SCT&#x27;, &#x27;nFeature_SCT&#x27;, &#x27;cluster.sct&#x27;, &#x27;seurat_clusters&#x27;, &#x27;pANN_0.25_0.09_1841&#x27;, &#x27;DF.classifications_0.25_0.09_1841&#x27;\n",
       "      var:\t&#x27;name&#x27;\n",
       "      obsm:\t&#x27;X_pca.sct&#x27;, &#x27;X_umap.sct&#x27;\n",
       "      layers:\t&#x27;counts&#x27;\n",
       "    protein:\t13409 x 42\n",
       "      obs:\t&#x27;orig.ident&#x27;, &#x27;nCount_RNA&#x27;, &#x27;nFeature_RNA&#x27;, &#x27;nCount_HTO&#x27;, &#x27;nFeature_HTO&#x27;, &#x27;nCount_ADT&#x27;, &#x27;nFeature_ADT&#x27;, &#x27;MULTI_ID&#x27;, &#x27;MULTI_classification&#x27;, &#x27;percent_ribo&#x27;, &#x27;percent_mito&#x27;, &#x27;percent_hemoglob&#x27;, &#x27;log10GenesPerUmi&#x27;, &#x27;S.Score&#x27;, &#x27;G2M.Score&#x27;, &#x27;Phase&#x27;, &#x27;old.ident&#x27;, &#x27;nCount_SCT&#x27;, &#x27;nFeature_SCT&#x27;, &#x27;cluster.sct&#x27;, &#x27;seurat_clusters&#x27;, &#x27;pANN_0.25_0.09_1841&#x27;, &#x27;DF.classifications_0.25_0.09_1841&#x27;\n",
       "      var:\t&#x27;name&#x27;\n",
       "      obsm:\t&#x27;X_pca.sct&#x27;, &#x27;X_umap.sct&#x27;</pre>"
      ],
      "text/plain": [
       "MuData object with n_obs × n_vars = 13409 × 25613\n",
       "  var:\t'name'\n",
       "  2 modalities\n",
       "    rna:\t13409 x 25571\n",
       "      obs:\t'orig.ident', 'nCount_RNA', 'nFeature_RNA', 'nCount_HTO', 'nFeature_HTO', 'nCount_ADT', 'nFeature_ADT', 'MULTI_ID', 'MULTI_classification', 'percent_ribo', 'percent_mito', 'percent_hemoglob', 'log10GenesPerUmi', 'S.Score', 'G2M.Score', 'Phase', 'old.ident', 'nCount_SCT', 'nFeature_SCT', 'cluster.sct', 'seurat_clusters', 'pANN_0.25_0.09_1841', 'DF.classifications_0.25_0.09_1841'\n",
       "      var:\t'name'\n",
       "      obsm:\t'X_pca.sct', 'X_umap.sct'\n",
       "      layers:\t'counts'\n",
       "    protein:\t13409 x 42\n",
       "      obs:\t'orig.ident', 'nCount_RNA', 'nFeature_RNA', 'nCount_HTO', 'nFeature_HTO', 'nCount_ADT', 'nFeature_ADT', 'MULTI_ID', 'MULTI_classification', 'percent_ribo', 'percent_mito', 'percent_hemoglob', 'log10GenesPerUmi', 'S.Score', 'G2M.Score', 'Phase', 'old.ident', 'nCount_SCT', 'nFeature_SCT', 'cluster.sct', 'seurat_clusters', 'pANN_0.25_0.09_1841', 'DF.classifications_0.25_0.09_1841'\n",
       "      var:\t'name'\n",
       "      obsm:\t'X_pca.sct', 'X_umap.sct'"
      ]
     },
     "execution_count": 74,
     "metadata": {},
     "output_type": "execute_result"
    }
   ],
   "source": [
    "mdata"
   ]
  },
  {
   "cell_type": "code",
   "execution_count": 55,
   "metadata": {
    "scrolled": true
   },
   "outputs": [
    {
     "data": {
      "text/plain": [
       "AAACCAAAGACCTACA-1    False\n",
       "AAACCAAAGACTGATT-1    False\n",
       "AAACCAAAGAGAATCA-1    False\n",
       "AAACCAAAGCCATTGA-1    False\n",
       "AAACCAAAGGTCTGGT-1    False\n",
       "                      ...  \n",
       "GTTGTGGGTATGATGC-1    False\n",
       "GTTGTGGGTCCTATGC-1    False\n",
       "GTTGTGGGTGCATTCC-1    False\n",
       "GTTGTGGGTGGCGATC-1    False\n",
       "GTTGTGGGTGGGTTTG-1    False\n",
       "Name: sct.var.genes, Length: 13409, dtype: bool"
      ]
     },
     "execution_count": 55,
     "metadata": {},
     "output_type": "execute_result"
    }
   ],
   "source": [
    "# mdata[\"rna\"].var[\"vf_vst_counts_variable\"]\n"
   ]
  },
  {
   "cell_type": "code",
   "execution_count": 57,
   "metadata": {},
   "outputs": [
    {
     "ename": "IndexError",
     "evalue": "Boolean index does not match AnnData’s shape along this dimension. Boolean index has shape (13409,) while AnnData index has shape (25571,).",
     "output_type": "error",
     "traceback": [
      "\u001b[0;31m---------------------------------------------------------------------------\u001b[0m",
      "\u001b[0;31mIndexError\u001b[0m                                Traceback (most recent call last)",
      "Cell \u001b[0;32mIn[57], line 2\u001b[0m\n\u001b[1;32m      1\u001b[0m \u001b[38;5;66;03m# mdata.mod[\"rna_subset\"] = mdata.mod[\"rna\"][:, mdata.mod[\"rna\"].var[\"vf_vst_counts_variable\"]].copy()\u001b[39;00m\n\u001b[0;32m----> 2\u001b[0m mdata\u001b[38;5;241m.\u001b[39mmod[\u001b[38;5;124m\"\u001b[39m\u001b[38;5;124mrna_subset\u001b[39m\u001b[38;5;124m\"\u001b[39m] \u001b[38;5;241m=\u001b[39m \u001b[43mmdata\u001b[49m\u001b[38;5;241;43m.\u001b[39;49m\u001b[43mmod\u001b[49m\u001b[43m[\u001b[49m\u001b[38;5;124;43m\"\u001b[39;49m\u001b[38;5;124;43mrna\u001b[39;49m\u001b[38;5;124;43m\"\u001b[39;49m\u001b[43m]\u001b[49m\u001b[43m[\u001b[49m\u001b[43m:\u001b[49m\u001b[43m,\u001b[49m\u001b[43m \u001b[49m\u001b[43mmdata\u001b[49m\u001b[38;5;241;43m.\u001b[39;49m\u001b[43mmod\u001b[49m\u001b[43m[\u001b[49m\u001b[38;5;124;43m\"\u001b[39;49m\u001b[38;5;124;43mrna\u001b[39;49m\u001b[38;5;124;43m\"\u001b[39;49m\u001b[43m]\u001b[49m\u001b[38;5;241;43m.\u001b[39;49m\u001b[43mobs\u001b[49m\u001b[43m[\u001b[49m\u001b[38;5;124;43m\"\u001b[39;49m\u001b[38;5;124;43msct.var.genes\u001b[39;49m\u001b[38;5;124;43m\"\u001b[39;49m\u001b[43m]\u001b[49m\u001b[43m]\u001b[49m\u001b[38;5;241m.\u001b[39mcopy()\n",
      "File \u001b[0;32m/mnt/sda4/conda/envs/scvi/lib/python3.12/site-packages/anndata/_core/anndata.py:1022\u001b[0m, in \u001b[0;36mAnnData.__getitem__\u001b[0;34m(self, index)\u001b[0m\n\u001b[1;32m   1020\u001b[0m \u001b[38;5;28;01mdef\u001b[39;00m \u001b[38;5;21m__getitem__\u001b[39m(\u001b[38;5;28mself\u001b[39m, index: Index) \u001b[38;5;241m-\u001b[39m\u001b[38;5;241m>\u001b[39m AnnData:\n\u001b[1;32m   1021\u001b[0m \u001b[38;5;250m    \u001b[39m\u001b[38;5;124;03m\"\"\"Returns a sliced view of the object.\"\"\"\u001b[39;00m\n\u001b[0;32m-> 1022\u001b[0m     oidx, vidx \u001b[38;5;241m=\u001b[39m \u001b[38;5;28;43mself\u001b[39;49m\u001b[38;5;241;43m.\u001b[39;49m\u001b[43m_normalize_indices\u001b[49m\u001b[43m(\u001b[49m\u001b[43mindex\u001b[49m\u001b[43m)\u001b[49m\n\u001b[1;32m   1023\u001b[0m     \u001b[38;5;28;01mreturn\u001b[39;00m AnnData(\u001b[38;5;28mself\u001b[39m, oidx\u001b[38;5;241m=\u001b[39moidx, vidx\u001b[38;5;241m=\u001b[39mvidx, asview\u001b[38;5;241m=\u001b[39m\u001b[38;5;28;01mTrue\u001b[39;00m)\n",
      "File \u001b[0;32m/mnt/sda4/conda/envs/scvi/lib/python3.12/site-packages/anndata/_core/anndata.py:1003\u001b[0m, in \u001b[0;36mAnnData._normalize_indices\u001b[0;34m(self, index)\u001b[0m\n\u001b[1;32m   1002\u001b[0m \u001b[38;5;28;01mdef\u001b[39;00m \u001b[38;5;21m_normalize_indices\u001b[39m(\u001b[38;5;28mself\u001b[39m, index: Index \u001b[38;5;241m|\u001b[39m \u001b[38;5;28;01mNone\u001b[39;00m) \u001b[38;5;241m-\u001b[39m\u001b[38;5;241m>\u001b[39m \u001b[38;5;28mtuple\u001b[39m[\u001b[38;5;28mslice\u001b[39m, \u001b[38;5;28mslice\u001b[39m]:\n\u001b[0;32m-> 1003\u001b[0m     \u001b[38;5;28;01mreturn\u001b[39;00m \u001b[43m_normalize_indices\u001b[49m\u001b[43m(\u001b[49m\u001b[43mindex\u001b[49m\u001b[43m,\u001b[49m\u001b[43m \u001b[49m\u001b[38;5;28;43mself\u001b[39;49m\u001b[38;5;241;43m.\u001b[39;49m\u001b[43mobs_names\u001b[49m\u001b[43m,\u001b[49m\u001b[43m \u001b[49m\u001b[38;5;28;43mself\u001b[39;49m\u001b[38;5;241;43m.\u001b[39;49m\u001b[43mvar_names\u001b[49m\u001b[43m)\u001b[49m\n",
      "File \u001b[0;32m/mnt/sda4/conda/envs/scvi/lib/python3.12/site-packages/anndata/_core/index.py:33\u001b[0m, in \u001b[0;36m_normalize_indices\u001b[0;34m(index, names0, names1)\u001b[0m\n\u001b[1;32m     31\u001b[0m ax0, ax1 \u001b[38;5;241m=\u001b[39m unpack_index(index)\n\u001b[1;32m     32\u001b[0m ax0 \u001b[38;5;241m=\u001b[39m _normalize_index(ax0, names0)\n\u001b[0;32m---> 33\u001b[0m ax1 \u001b[38;5;241m=\u001b[39m \u001b[43m_normalize_index\u001b[49m\u001b[43m(\u001b[49m\u001b[43max1\u001b[49m\u001b[43m,\u001b[49m\u001b[43m \u001b[49m\u001b[43mnames1\u001b[49m\u001b[43m)\u001b[49m\n\u001b[1;32m     34\u001b[0m \u001b[38;5;28;01mreturn\u001b[39;00m ax0, ax1\n",
      "File \u001b[0;32m/mnt/sda4/conda/envs/scvi/lib/python3.12/site-packages/anndata/_core/index.py:89\u001b[0m, in \u001b[0;36m_normalize_index\u001b[0;34m(indexer, index)\u001b[0m\n\u001b[1;32m     87\u001b[0m \u001b[38;5;28;01melif\u001b[39;00m \u001b[38;5;28missubclass\u001b[39m(indexer\u001b[38;5;241m.\u001b[39mdtype\u001b[38;5;241m.\u001b[39mtype, np\u001b[38;5;241m.\u001b[39mbool_):\n\u001b[1;32m     88\u001b[0m     \u001b[38;5;28;01mif\u001b[39;00m indexer\u001b[38;5;241m.\u001b[39mshape \u001b[38;5;241m!=\u001b[39m index\u001b[38;5;241m.\u001b[39mshape:\n\u001b[0;32m---> 89\u001b[0m         \u001b[38;5;28;01mraise\u001b[39;00m \u001b[38;5;167;01mIndexError\u001b[39;00m(\n\u001b[1;32m     90\u001b[0m             \u001b[38;5;124mf\u001b[39m\u001b[38;5;124m\"\u001b[39m\u001b[38;5;124mBoolean index does not match AnnData’s shape along this \u001b[39m\u001b[38;5;124m\"\u001b[39m\n\u001b[1;32m     91\u001b[0m             \u001b[38;5;124mf\u001b[39m\u001b[38;5;124m\"\u001b[39m\u001b[38;5;124mdimension. Boolean index has shape \u001b[39m\u001b[38;5;132;01m{\u001b[39;00mindexer\u001b[38;5;241m.\u001b[39mshape\u001b[38;5;132;01m}\u001b[39;00m\u001b[38;5;124m while \u001b[39m\u001b[38;5;124m\"\u001b[39m\n\u001b[1;32m     92\u001b[0m             \u001b[38;5;124mf\u001b[39m\u001b[38;5;124m\"\u001b[39m\u001b[38;5;124mAnnData index has shape \u001b[39m\u001b[38;5;132;01m{\u001b[39;00mindex\u001b[38;5;241m.\u001b[39mshape\u001b[38;5;132;01m}\u001b[39;00m\u001b[38;5;124m.\u001b[39m\u001b[38;5;124m\"\u001b[39m\n\u001b[1;32m     93\u001b[0m         )\n\u001b[1;32m     94\u001b[0m     \u001b[38;5;28;01mreturn\u001b[39;00m indexer\n\u001b[1;32m     95\u001b[0m \u001b[38;5;28;01melse\u001b[39;00m:  \u001b[38;5;66;03m# indexer should be string array\u001b[39;00m\n",
      "\u001b[0;31mIndexError\u001b[0m: Boolean index does not match AnnData’s shape along this dimension. Boolean index has shape (13409,) while AnnData index has shape (25571,)."
     ]
    }
   ],
   "source": [
    "# mdata.mod[\"rna_subset\"] = mdata.mod[\"rna\"][:, mdata.mod[\"rna\"].var[\"vf_vst_counts_variable\"]].copy()\n"
   ]
  },
  {
   "cell_type": "code",
   "execution_count": 75,
   "metadata": {},
   "outputs": [
    {
     "name": "stderr",
     "output_type": "stream",
     "text": [
      "/mnt/sda4/conda/envs/scvi/lib/python3.12/site-packages/mudata/_core/mudata.py:1531: FutureWarning: From 0.4 .update() will not pull obs/var columns from individual modalities by default anymore. Set mudata.set_options(pull_on_update=False) to adopt the new behaviour, which will become the default. Use new pull_obs/pull_var and push_obs/push_var methods for more flexibility.\n",
      "  self._update_attr(\"var\", axis=0, join_common=join_common)\n",
      "/mnt/sda4/conda/envs/scvi/lib/python3.12/site-packages/mudata/_core/mudata.py:1429: FutureWarning: From 0.4 .update() will not pull obs/var columns from individual modalities by default anymore. Set mudata.set_options(pull_on_update=False) to adopt the new behaviour, which will become the default. Use new pull_obs/pull_var and push_obs/push_var methods for more flexibility.\n",
      "  self._update_attr(\"obs\", axis=1, join_common=join_common)\n"
     ]
    }
   ],
   "source": [
    "mdata.update()"
   ]
  },
  {
   "cell_type": "code",
   "execution_count": 116,
   "metadata": {},
   "outputs": [
    {
     "name": "stderr",
     "output_type": "stream",
     "text": [
      "/mnt/sda4/conda/envs/scvi/lib/python3.12/site-packages/scvi/data/fields/_layer_field.py:115: UserWarning: Training will be faster when sparse matrix is formatted as CSR. It is safe to cast before model initialization.\n",
      "  _verify_and_correct_data_format(adata, self.attr_name, self.attr_key)\n"
     ]
    }
   ],
   "source": []
  },
  {
   "cell_type": "code",
   "execution_count": 76,
   "metadata": {},
   "outputs": [
    {
     "name": "stderr",
     "output_type": "stream",
     "text": [
      "/mnt/sda4/conda/envs/scvi/lib/python3.12/site-packages/scvi/data/fields/_layer_field.py:115: UserWarning: Training will be faster when sparse matrix is formatted as CSR. It is safe to cast before model initialization.\n",
      "  _verify_and_correct_data_format(adata, self.attr_name, self.attr_key)\n"
     ]
    }
   ],
   "source": [
    "# scvi.model.TOTALVI.setup_mudata(\n",
    "#     mdata,\n",
    "#     rna_layer=\"counts\",\n",
    "#     protein_layer=None,\n",
    "#     modalities={\n",
    "#         \"rna_layer\": \"rna_subset\",\n",
    "#         \"protein_layer\": \"protein\",\n",
    "#         \"batch_key\": \"rna_subset\",\n",
    "#     },\n",
    "# )\n",
    "\n",
    "scvi.model.TOTALVI.setup_mudata(\n",
    "    mdata,\n",
    "    rna_layer=\"counts\",\n",
    "    # batch_key = \"MULTI_ID\",\n",
    "    protein_layer=None,\n",
    "    modalities={\n",
    "        \"rna_layer\": \"rna\",\n",
    "        \"protein_layer\": \"protein\",\n",
    "        \"batch_key\": \"rna\",\n",
    "    },\n",
    ")\n"
   ]
  },
  {
   "cell_type": "code",
   "execution_count": 78,
   "metadata": {},
   "outputs": [
    {
     "name": "stdout",
     "output_type": "stream",
     "text": [
      "\u001b[34mINFO    \u001b[0m Computing empirical prior initialization for protein background.                                          \n"
     ]
    }
   ],
   "source": [
    "model3 = scvi.model.TOTALVI(mdata)"
   ]
  },
  {
   "cell_type": "code",
   "execution_count": 79,
   "metadata": {
    "scrolled": true
   },
   "outputs": [
    {
     "name": "stderr",
     "output_type": "stream",
     "text": [
      "GPU available: False, used: False\n",
      "TPU available: False, using: 0 TPU cores\n",
      "HPU available: False, using: 0 HPUs\n",
      "/mnt/sda4/conda/envs/scvi/lib/python3.12/site-packages/torch/optim/lr_scheduler.py:60: UserWarning: The verbose parameter is deprecated. Please use get_last_lr() to access the learning rate.\n",
      "  warnings.warn(\n",
      "/mnt/sda4/conda/envs/scvi/lib/python3.12/site-packages/lightning/pytorch/core/optimizer.py:316: The lr scheduler dict contains the key(s) ['monitor'], but the keys will be ignored. You need to call `lr_scheduler.step()` manually in manual optimization.\n"
     ]
    },
    {
     "name": "stdout",
     "output_type": "stream",
     "text": [
      "Epoch 217/400:  54%|▌| 217/400 [2:04:27<1:44:57, 34.41s/it, v_num=1, tr\n",
      "Monitored metric elbo_validation did not improve in the last 45 records. Best score: 7391.365. Signaling Trainer to stop.\n"
     ]
    }
   ],
   "source": [
    "model3.train()\n",
    "\n",
    "latent = model3.get_latent_representation()\n",
    "\n",
    "latent_df = pd.DataFrame(latent)\n",
    "latent_df.to_csv(\"latent-sct-totalVI_06dec24_wo-int-doublet-500.csv\")"
   ]
  },
  {
   "cell_type": "code",
   "execution_count": null,
   "metadata": {},
   "outputs": [],
   "source": []
  },
  {
   "cell_type": "code",
   "execution_count": null,
   "metadata": {},
   "outputs": [],
   "source": []
  },
  {
   "cell_type": "code",
   "execution_count": null,
   "metadata": {},
   "outputs": [],
   "source": []
  }
 ],
 "metadata": {
  "kernelspec": {
   "display_name": "Python 3 (ipykernel)",
   "language": "python",
   "name": "python3"
  },
  "language_info": {
   "codemirror_mode": {
    "name": "ipython",
    "version": 3
   },
   "file_extension": ".py",
   "mimetype": "text/x-python",
   "name": "python",
   "nbconvert_exporter": "python",
   "pygments_lexer": "ipython3",
   "version": "3.12.7"
  }
 },
 "nbformat": 4,
 "nbformat_minor": 4
}
